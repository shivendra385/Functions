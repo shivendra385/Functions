{
  "nbformat": 4,
  "nbformat_minor": 0,
  "metadata": {
    "colab": {
      "provenance": []
    },
    "kernelspec": {
      "name": "python3",
      "display_name": "Python 3"
    },
    "language_info": {
      "name": "python"
    }
  },
  "cells": [
    {
      "cell_type": "code",
      "execution_count": 7,
      "metadata": {
        "id": "zKOI3fqUOa-p"
      },
      "outputs": [],
      "source": []
    },
    {
      "cell_type": "markdown",
      "source": [
        " 1. What is the difference between a function and a method in Python?\n",
        "  ->A function is a block of code that can be called multiple times from different parts of a program, while method is a function that belongs to object.\n",
        " 2. Explain the concept of function arguments and parameters in Python\n",
        "  -> Function arguments are the values passed to a function when its called,while parameters are the variables defined in the function definition that receive the arguments values.\n",
        " 3. What are the different ways to define and call a function in Python?\n",
        "  -> Functions can be defined using the 'def' keyword and called using the function name followed by paranthese containing any required arguments.\n",
        " 4.  What is the purpose of the `return` statement in a Python function?\n",
        "  -> The 'return' statement is used to exit a function and return a value to the caller.\n",
        " 5. What are iterators in Python and how do they differ from iterables?\n",
        "  ->Iterables are objects that can be iterated over, such as lists or tuples, while iterators are objects that keep track of the current position in an iterable\n",
        "6. Explain the concept of generators in Python and how they are defined.  \n",
        " ->Generators are functions that use the yield keyword to produce a series of values, rather than computing them all at once and returning them in a list.\n",
        "7.  What are the advantages of using generators over regular functions?\n",
        " ->Generators use less memory and can be more efficient than regular functions for large datasets.\n",
        "8. What is a lambda function in Python and when is it typically used?\n",
        " ->Lambda functions are small anonymous functions that can be defined inline within a larger expression.\n",
        "9. xplain the purpose and usage of the `map()` function in Python.\n",
        " ->The map() function applies a given function to each item of an iterable (such as a list or tuple) and returns a list of the results.\n",
        "10.  What is the difference between `map()`, `reduce()`, and `filter()` functions in Python?\n",
        "->map() applies a function to each item of an iterable, reduce() applies a function to the items of an iterable, going from left to right, so as to reduce the iterable to a single output, and filter() constructs an iterator from elements of an iterable for which a function returns True\n",
        "11. . Using pen & Paper write the internal mechanism for sum operation using  reduce function on this given\n",
        "list:[47,11,42,13];\n",
        " ->https://ibb.co/s97CJ2v\n",
        "\n"
      ],
      "metadata": {
        "id": "Rzq_CQVVOfY2"
      }
    },
    {
      "cell_type": "code",
      "source": [
        "#1 Write a Python function that takes a list of numbers as input and returns the sum of all even numbers in list\n",
        "def sum_even_numbers(numbers):\n",
        "  return sum(num for num in numbers if num % 2 == 0)\n",
        "  numbers = [1,2,3,5,6]\n",
        "  print(sum_even_numbers(numbers))\n",
        "\n",
        "\n",
        "\n",
        "\n"
      ],
      "metadata": {
        "id": "Rcmx9HgOcZ89"
      },
      "execution_count": 12,
      "outputs": []
    },
    {
      "cell_type": "code",
      "source": [
        "#2 Create a Python function that accepts a string and returns the reverse of that string.\n",
        "def reverse_string(string):\n",
        "  return string[::-1]\n",
        "  string = \"hello world\"\n",
        "  print(reverse_string(string))\n",
        "\n"
      ],
      "metadata": {
        "id": "BazApcKNdxne"
      },
      "execution_count": 9,
      "outputs": []
    },
    {
      "cell_type": "code",
      "source": [
        "#3Implement a Python function that takes a list of integers and returns a new list containing the squares of each numbers\n",
        "def square(numbers):\n",
        "  return[num**2 for num in numbers]\n",
        "  numbers =[1,2,3,4,5]\n",
        "  print(square(numbers))\n",
        "\n"
      ],
      "metadata": {
        "id": "Igx4fdC9gPYU"
      },
      "execution_count": 15,
      "outputs": []
    },
    {
      "cell_type": "code",
      "source": [],
      "metadata": {
        "id": "TpwsqOW-gPTs"
      },
      "execution_count": null,
      "outputs": []
    },
    {
      "cell_type": "code",
      "source": [
        "#4 Write a Python function that checks if a given number is prime or not from 1 to 200.\n",
        "def is_prime(n):\n",
        "  if n<2:\n",
        "    return False\n",
        "    for i in range(2, int(n**0.5)+1):\n",
        "      if n% i== 0:\n",
        "        return True\n",
        "        for i in range (1,201):\n",
        "          if is_prime(i):\n",
        "            print(i)\n",
        "\n",
        "\n"
      ],
      "metadata": {
        "id": "2HWgvkCqeAtz"
      },
      "execution_count": 18,
      "outputs": []
    },
    {
      "cell_type": "code",
      "source": [
        "from typing_extensions import Self\n",
        "#5 Create an iterator class in Python that generates the Fibonacci sequence up to a specified number of terms\n",
        "class FibonacciIterator:\n",
        "  def __init__(self,n) :\n",
        "    self.n = n\n",
        "    self.a, self.b = 0, 1\n",
        "    self.count =0\n",
        "  def __iter__(self) :\n",
        "    return self\n",
        "  def __next__(self):\n",
        "    if self.count >= self.n:\n",
        "      raise StopIteration\n",
        "    result = self.a\n",
        "    self.a, self.b = self.b, self.a + self.b\n",
        "    self.count += 1\n",
        "    return result\n",
        "fib_iter = FibonacciIterator(10)\n",
        "for num in fib_iter:\n",
        "  print(num)\n",
        "\n"
      ],
      "metadata": {
        "colab": {
          "base_uri": "https://localhost:8080/"
        },
        "id": "_dCL7USne1ZC",
        "outputId": "8fe107af-a794-410b-ab57-2fae94f39588"
      },
      "execution_count": 23,
      "outputs": [
        {
          "output_type": "stream",
          "name": "stdout",
          "text": [
            "0\n",
            "1\n",
            "1\n",
            "2\n",
            "3\n",
            "5\n",
            "8\n",
            "13\n",
            "21\n",
            "34\n"
          ]
        }
      ]
    },
    {
      "cell_type": "code",
      "source": [
        "#6 Write a generator function in Python that yields the powers of 2 up to a given exponent.\n",
        "def power_of_2(exponent):\n",
        "  for i in range(exponent + 1):\n",
        "    yield 2** i\n",
        "    powers = powers_of_2(5)\n",
        "    for power in powers:\n",
        "      print(power)"
      ],
      "metadata": {
        "id": "A6JS7r4bkQTp"
      },
      "execution_count": 24,
      "outputs": []
    },
    {
      "cell_type": "code",
      "source": [
        "#7 Implement a generator function that reads a file line by line and yields each line as a string.\n",
        "def read_file_lines(filename):\n",
        "  with open(filename, 'r') as file:\n",
        "    for line in file:\n",
        "      yield line.strip()\n",
        "      lines=read_file_lines('example.txt')\n",
        "      for line in lines:\n",
        "        print(line)"
      ],
      "metadata": {
        "id": "mPM57KbQm7JK"
      },
      "execution_count": 25,
      "outputs": []
    },
    {
      "cell_type": "code",
      "source": [
        "#8 Use a lambda function in Python to sort a list of tuples based on the second element of each tuple.\n",
        "students = [('shivendra',20),('yash',19),('shiv',21)]\n",
        "students.sort(key=lambda x:x[1])\n",
        "print(students)"
      ],
      "metadata": {
        "colab": {
          "base_uri": "https://localhost:8080/"
        },
        "id": "XeaB9E9rnxWB",
        "outputId": "dd0011db-77c4-4d31-f9d7-33995a18128a"
      },
      "execution_count": 27,
      "outputs": [
        {
          "output_type": "stream",
          "name": "stdout",
          "text": [
            "[('yash', 19), ('shivendra', 20), ('shiv', 21)]\n"
          ]
        }
      ]
    },
    {
      "cell_type": "code",
      "source": [
        "#9 Write a Python program that uses `map()` to convert a list of temperatures from Celsius to Fahrenheit.\n",
        "temperatures =[0,10,20,30,40]\n",
        "Fahrenheit =list(map(lambda x:(x* 9/5)+ 32, temperatures))\n",
        "print(Fahrenheit)"
      ],
      "metadata": {
        "colab": {
          "base_uri": "https://localhost:8080/"
        },
        "id": "mN6UQ62lofe2",
        "outputId": "67ece059-6f24-4955-ce46-cf72cbb3ad1d"
      },
      "execution_count": 29,
      "outputs": [
        {
          "output_type": "stream",
          "name": "stdout",
          "text": [
            "[32.0, 50.0, 68.0, 86.0, 104.0]\n"
          ]
        }
      ]
    },
    {
      "cell_type": "code",
      "source": [
        "#10 Create a Python program that uses `filter()` to remove all the vowels from a given string.\n",
        "vowels = 'aeiouAEIOU'\n",
        "s= \"Hello, World\"\n",
        "result = ''.join(filter(lambda x: x not in vowels, s))\n",
        "print(result)"
      ],
      "metadata": {
        "colab": {
          "base_uri": "https://localhost:8080/"
        },
        "id": "tgo1xj3ApjZd",
        "outputId": "6bb282ee-d0b9-4a15-9d9b-35276df075ff"
      },
      "execution_count": 30,
      "outputs": [
        {
          "output_type": "stream",
          "name": "stdout",
          "text": [
            "Hll, Wrld\n"
          ]
        }
      ]
    },
    {
      "cell_type": "code",
      "source": [],
      "metadata": {
        "id": "mB3u2jAdx1TV"
      },
      "execution_count": null,
      "outputs": []
    }
  ]
}